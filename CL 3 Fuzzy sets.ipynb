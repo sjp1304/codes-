{
 "cells": [
  {
   "cell_type": "code",
   "execution_count": 1,
   "id": "8a094d29",
   "metadata": {},
   "outputs": [],
   "source": [
    "# ------------------------------\n",
    "# Fuzzy Set Operations & Relations\n",
    " # ------------------------------\n",
    "# Sample Fuzzy Sets\n",
    "A = {\"a\": 0.2, \"b\": 0.5, \"c\": 0.7}\n",
    "B = {\"b\": 0.6, \"c\": 0.3, \"d\": 0.9}\n"
   ]
  },
  {
   "cell_type": "code",
   "execution_count": 2,
   "id": "62ded16a",
   "metadata": {},
   "outputs": [],
   "source": [
    " # ------------------------------\n",
    "# 1. Fuzzy Set Operations\n",
    " # ------------------------------\n",
    "# Union (A ∪ B): max(A(x), B(x))\n",
    " def fuzzy_union(A, B):\n",
    "    result = {}\n",
    "    universe = set(A.keys()).union(B.keys())\n",
    "    for x in universe:\n",
    "        result[x] = max(A.get(x, 0), B.get(x, 0))\n",
    "    return result\n"
   ]
  },
  {
   "cell_type": "code",
   "execution_count": 3,
   "id": "f4605f04",
   "metadata": {},
   "outputs": [],
   "source": [
    "# Intersection (A ∩ B): min(A(x), B(x))\n",
    "def fuzzy_intersection(A, B):\n",
    "    result = {}\n",
    "    universe = set(A.keys()).union(B.keys())\n",
    "    for x in universe:\n",
    "        result[x] = min(A.get(x, 0), B.get(x, 0))\n",
    "    return result"
   ]
  },
  {
   "cell_type": "code",
   "execution_count": 4,
   "id": "88b79406",
   "metadata": {},
   "outputs": [],
   "source": [
    "# Complement (A'): 1 - A(x)\n",
    "def fuzzy_complement(A):\n",
    "    return {x: 1 - val for x, val in A.items()}"
   ]
  },
  {
   "cell_type": "code",
   "execution_count": 5,
   "id": "79d681d8",
   "metadata": {},
   "outputs": [],
   "source": [
    "# Difference (A - B): max(0, A(x) - B(x))\n",
    "def fuzzy_difference(A, B):\n",
    "    result = {}\n",
    "    universe = set(A.keys()).union(B.keys())\n",
    "    for x in universe:\n",
    "        result[x] = max(0, A.get(x, 0) - B.get(x, 0))\n",
    "    return result"
   ]
  },
  {
   "cell_type": "code",
   "execution_count": 6,
   "id": "5fa13abb",
   "metadata": {},
   "outputs": [],
   "source": [
    "# ------------------------------\n",
    "# 2. Fuzzy Cartesian Product (Relation)\n",
    "# ------------------------------\n",
    "# Cartesian Product R = A × B with min(A(x), B(y))\n",
    "def cartesian_product(A, B):\n",
    "    relation = {}\n",
    "    for a_key, a_val in A.items():\n",
    "        for b_key, b_val in B.items():\n",
    "             relation[(a_key, b_key)] = min(a_val, b_val)\n",
    "    return relation"
   ]
  },
  {
   "cell_type": "code",
   "execution_count": 7,
   "id": "f1f1e123",
   "metadata": {},
   "outputs": [],
   "source": [
    "# ------------------------------\n",
    "# 3. Max-Min Composition of Two Relations\n",
    "# ------------------------------\n",
    "\n",
    "def max_min_composition(R1, R2):\n",
    "    result = {}\n",
    "\n",
    "    # Get sets for X, Y, Z\n",
    "    X = {x for x, _ in R1}\n",
    "    Y = {y for _, y in R1}\n",
    "    Y2 = {y for y, _ in R2}\n",
    "    Z = {z for _, z in R2}\n",
    "\n",
    "    # Ensure Y matches Y2 for valid composition\n",
    "    if Y != Y2:\n",
    "        raise ValueError(\"Mismatch in middle elements for composition!\")\n",
    "\n",
    "    # Perform max-min composition\n",
    "    for x in X:\n",
    "        for z in Z:\n",
    "            min_vals = []\n",
    "            for y in Y:\n",
    "                val1 = R1.get((x, y), 0)\n",
    "                val2 = R2.get((y, z), 0)\n",
    "                min_vals.append(min(val1, val2))\n",
    "            result[(x, z)] = max(min_vals)\n",
    "\n",
    "    return result\n"
   ]
  },
  {
   "cell_type": "code",
   "execution_count": 8,
   "id": "2b7aea98",
   "metadata": {},
   "outputs": [
    {
     "name": "stdout",
     "output_type": "stream",
     "text": [
      "Fuzzy Set A: {'a': 0.2, 'b': 0.5, 'c': 0.7}\n",
      "Fuzzy Set B: {'b': 0.6, 'c': 0.3, 'd': 0.9}\n",
      "\n",
      "--- Fuzzy Set Operations ---\n",
      "Union A ∪ B: {'c': 0.7, 'b': 0.6, 'a': 0.2, 'd': 0.9}\n",
      "Intersection A ∩ B: {'c': 0.3, 'b': 0.5, 'a': 0, 'd': 0}\n",
      "Complement of A: {'a': 0.8, 'b': 0.5, 'c': 0.30000000000000004}\n",
      "Difference A - B: {'c': 0.39999999999999997, 'b': 0, 'a': 0.2, 'd': 0}\n",
      "\n",
      "--- Fuzzy Relation R = A × B ---\n",
      "R('a', 'b') = 0.2\n",
      "R('a', 'c') = 0.2\n",
      "R('a', 'd') = 0.2\n",
      "R('b', 'b') = 0.5\n",
      "R('b', 'c') = 0.3\n",
      "R('b', 'd') = 0.5\n",
      "R('c', 'b') = 0.6\n",
      "R('c', 'c') = 0.3\n",
      "R('c', 'd') = 0.7\n",
      "\n",
      "--- Fuzzy Relation S = B × A ---\n",
      "S('b', 'a') = 0.2\n",
      "S('b', 'b') = 0.5\n",
      "S('b', 'c') = 0.6\n",
      "S('c', 'a') = 0.2\n",
      "S('c', 'b') = 0.3\n",
      "S('c', 'c') = 0.3\n",
      "S('d', 'a') = 0.2\n",
      "S('d', 'b') = 0.5\n",
      "S('d', 'c') = 0.7\n",
      "\n",
      "--- Max-Min Composition: R o S ---\n",
      "(R o S)('a', 'a') = 0.2\n",
      "(R o S)('a', 'b') = 0.2\n",
      "(R o S)('a', 'c') = 0.2\n",
      "(R o S)('b', 'a') = 0.2\n",
      "(R o S)('b', 'b') = 0.5\n",
      "(R o S)('b', 'c') = 0.5\n",
      "(R o S)('c', 'a') = 0.2\n",
      "(R o S)('c', 'b') = 0.5\n",
      "(R o S)('c', 'c') = 0.7\n"
     ]
    }
   ],
   "source": [
    "print(\"Fuzzy Set A:\", A)\n",
    "print(\"Fuzzy Set B:\", B)\n",
    "\n",
    "print(\"\\n--- Fuzzy Set Operations ---\")\n",
    "print(\"Union A ∪ B:\", fuzzy_union(A, B))\n",
    "print(\"Intersection A ∩ B:\", fuzzy_intersection(A, B))\n",
    "print(\"Complement of A:\", fuzzy_complement(A))\n",
    "print(\"Difference A - B:\", fuzzy_difference(A, B))\n",
    "\n",
    "print(\"\\n--- Fuzzy Relation R = A × B ---\")\n",
    "R = cartesian_product(A, B)\n",
    "for pair in sorted(R):\n",
    "    print(f\"R{pair} = {R[pair]}\")\n",
    "\n",
    "print(\"\\n--- Fuzzy Relation S = B × A ---\")\n",
    "S = cartesian_product(B, A)\n",
    "for pair in sorted(S):\n",
    "    print(f\"S{pair} = {S[pair]}\")\n",
    "\n",
    "print(\"\\n--- Max-Min Composition: R o S ---\")\n",
    "R_composed_S = max_min_composition(R, S)\n",
    "for pair in sorted(R_composed_S):\n",
    "    print(f\"(R o S){pair} = {R_composed_S[pair]}\")\n"
   ]
  },
  {
   "cell_type": "code",
   "execution_count": null,
   "id": "e9987547",
   "metadata": {},
   "outputs": [],
   "source": []
  }
 ],
 "metadata": {
  "kernelspec": {
   "display_name": "Python 3 (ipykernel)",
   "language": "python",
   "name": "python3"
  },
  "language_info": {
   "codemirror_mode": {
    "name": "ipython",
    "version": 3
   },
   "file_extension": ".py",
   "mimetype": "text/x-python",
   "name": "python",
   "nbconvert_exporter": "python",
   "pygments_lexer": "ipython3",
   "version": "3.9.13"
  }
 },
 "nbformat": 4,
 "nbformat_minor": 5
}
