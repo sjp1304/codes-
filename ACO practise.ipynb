{
 "cells": [
  {
   "cell_type": "code",
   "execution_count": 1,
   "id": "d352244c",
   "metadata": {},
   "outputs": [],
   "source": [
    "import numpy as np\n",
    "import matplotlib.pyplot as plt"
   ]
  },
  {
   "cell_type": "code",
   "execution_count": 2,
   "id": "67eb22bb",
   "metadata": {},
   "outputs": [],
   "source": [
    "# Step 1:  Define TSP problem\n",
    "# In the TSP problem, we have a set of cities with distances between them. The goal is\n",
    "# to find the shortest possible path that visits each city exactly once and returns to the starting\n",
    "# city."
   ]
  },
  {
   "cell_type": "code",
   "execution_count": 3,
   "id": "3d1c4c3f",
   "metadata": {},
   "outputs": [],
   "source": [
    "def create_distance_matrix(num_cities, seed = 42):\n",
    "    np.random.seed(seed)\n",
    "    coordinates = np.random.rand(num_cities, 2) * 100\n",
    "    \n",
    "    distance_matrix = np.sqrt(((coordinates[:, np.newaxis]  - coordinates[np.newaxis,:]) ** 2).sum(axis =2))\n",
    "    \n",
    "    return coordinates, distance_matrix"
   ]
  },
  {
   "cell_type": "code",
   "execution_count": 4,
   "id": "3dbbb90d",
   "metadata": {},
   "outputs": [],
   "source": [
    "# Step 2: Initialize Parameters"
   ]
  },
  {
   "cell_type": "code",
   "execution_count": 5,
   "id": "883bd02c",
   "metadata": {},
   "outputs": [],
   "source": [
    "num_cities = 10\n",
    "alpha = 1.0\n",
    "beta = 5.0\n",
    "num_ants = 30\n",
    "evaporation_rate =0.5\n",
    "pheromone_deposite =  100\n",
    "pheromone_init=1.0\n",
    "max_iter = 50"
   ]
  },
  {
   "cell_type": "code",
   "execution_count": 6,
   "id": "718ff798",
   "metadata": {},
   "outputs": [],
   "source": [
    "coordinates, distance_matrix = create_distance_matrix(num_cities)\n",
    "pheromone_matrix = np.ones((num_cities, num_cities) ) * pheromone_init"
   ]
  },
  {
   "cell_type": "code",
   "execution_count": 7,
   "id": "460c288c",
   "metadata": {},
   "outputs": [],
   "source": [
    "# Helper: Choose the next city"
   ]
  },
  {
   "cell_type": "code",
   "execution_count": 8,
   "id": "35074287",
   "metadata": {},
   "outputs": [],
   "source": [
    "def choose_next_city(current_city, unvisited_city, pheromone_matrix, distance_matrix, alpha, beta):\n",
    "    \n",
    "    pheromone = pheromone_matrix[current_city, unvisited_city] ** alpha\n",
    "    visibility = (1/ distance_matrix[current_city, unvisited_city]) ** beta \n",
    "    probabilities = pheromone * visibility\n",
    "    probabilities /= probabilities.sum()\n",
    "    \n",
    "    return np.random.choice(unvisited_city, p = probabilities)"
   ]
  },
  {
   "cell_type": "code",
   "execution_count": 9,
   "id": "f04e1c73",
   "metadata": {},
   "outputs": [],
   "source": [
    "# Step 3: Build solutions"
   ]
  },
  {
   "cell_type": "code",
   "execution_count": 10,
   "id": "778dc58e",
   "metadata": {},
   "outputs": [],
   "source": [
    "def build_solution(pheromone_matrix, distance_matrix, alpha, beta, num_ants):\n",
    "    \n",
    "    all_routes =[]\n",
    "    all_distances=[]\n",
    "\n",
    "    for _ in range(num_ants):\n",
    "        route =[]\n",
    "        unvisited = list(range(num_cities))\n",
    "        current_city = np.random.choice(unvisited)\n",
    "        route.append(current_city)\n",
    "        unvisited.remove(current_city)\n",
    "        \n",
    "        while unvisited:\n",
    "            next_city = choose_next_city(current_city,unvisited,pheromone_matrix,distance_matrix, alpha, beta)\n",
    "            route.append(next_city)\n",
    "            unvisited.remove(next_city)\n",
    "            current_city = next_city\n",
    "            \n",
    "        route.append(route[0])\n",
    "        distance = sum(distance_matrix[route[i], route[i+1]] for i in range(num_cities))\n",
    "        \n",
    "        \n",
    "        all_routes.append(route)\n",
    "        all_distances.append(distance)\n",
    "    return all_routes, all_distances"
   ]
  },
  {
   "cell_type": "code",
   "execution_count": 11,
   "id": "5b1bd6de",
   "metadata": {},
   "outputs": [],
   "source": [
    "# Step 4,5,6: Update Pheromones"
   ]
  },
  {
   "cell_type": "code",
   "execution_count": 12,
   "id": "2d4863ce",
   "metadata": {},
   "outputs": [],
   "source": [
    "def update_pheromones(pheromone_matrix, all_routes, all_distance, evaporation_rate, pheromone_deposite):\n",
    "    pheromone_matrix *= (1- evaporation_rate)\n",
    "    \n",
    "    for route, distance in zip(all_routes, all_distances):\n",
    "        pheromone = pheromone_deposite / distance\n",
    "        \n",
    "        for i in range(num_cities):\n",
    "            pheromone_matrix[route[i], route[i+1]] += pheromone\n",
    "            pheromone_matrix[route[i+1], route[i]] += pheromone "
   ]
  },
  {
   "cell_type": "code",
   "execution_count": 13,
   "id": "d1182af3",
   "metadata": {},
   "outputs": [],
   "source": [
    "# Step 7: Main ACO loop"
   ]
  },
  {
   "cell_type": "code",
   "execution_count": 14,
   "id": "1fe776ac",
   "metadata": {},
   "outputs": [
    {
     "name": "stdout",
     "output_type": "stream",
     "text": [
      "Iteration 1: Best Distance = 304.24\n",
      "Iteration 2: Best Distance = 290.31\n",
      "Iteration 3: Best Distance = 290.31\n",
      "Iteration 4: Best Distance = 290.31\n",
      "Iteration 5: Best Distance = 290.31\n",
      "Iteration 6: Best Distance = 290.31\n",
      "Iteration 7: Best Distance = 290.31\n",
      "Iteration 8: Best Distance = 290.31\n",
      "Iteration 9: Best Distance = 290.31\n",
      "Iteration 10: Best Distance = 290.31\n",
      "Iteration 11: Best Distance = 290.31\n",
      "Iteration 12: Best Distance = 290.31\n",
      "Iteration 13: Best Distance = 290.31\n",
      "Iteration 14: Best Distance = 290.31\n",
      "Iteration 15: Best Distance = 290.31\n",
      "Iteration 16: Best Distance = 290.31\n",
      "Iteration 17: Best Distance = 290.31\n",
      "Iteration 18: Best Distance = 290.31\n",
      "Iteration 19: Best Distance = 290.31\n",
      "Iteration 20: Best Distance = 290.31\n",
      "Iteration 21: Best Distance = 290.31\n",
      "Iteration 22: Best Distance = 290.31\n",
      "Iteration 23: Best Distance = 290.31\n",
      "Iteration 24: Best Distance = 290.31\n",
      "Iteration 25: Best Distance = 290.31\n",
      "Iteration 26: Best Distance = 290.31\n",
      "Iteration 27: Best Distance = 290.31\n",
      "Iteration 28: Best Distance = 290.31\n",
      "Iteration 29: Best Distance = 290.31\n",
      "Iteration 30: Best Distance = 290.31\n",
      "Iteration 31: Best Distance = 290.31\n",
      "Iteration 32: Best Distance = 290.31\n",
      "Iteration 33: Best Distance = 290.31\n",
      "Iteration 34: Best Distance = 290.31\n",
      "Iteration 35: Best Distance = 290.31\n",
      "Iteration 36: Best Distance = 290.31\n",
      "Iteration 37: Best Distance = 290.31\n",
      "Iteration 38: Best Distance = 290.31\n",
      "Iteration 39: Best Distance = 290.31\n",
      "Iteration 40: Best Distance = 290.31\n",
      "Iteration 41: Best Distance = 290.31\n",
      "Iteration 42: Best Distance = 290.31\n",
      "Iteration 43: Best Distance = 290.31\n",
      "Iteration 44: Best Distance = 290.31\n",
      "Iteration 45: Best Distance = 290.31\n",
      "Iteration 46: Best Distance = 290.31\n",
      "Iteration 47: Best Distance = 290.31\n",
      "Iteration 48: Best Distance = 290.31\n",
      "Iteration 49: Best Distance = 290.31\n",
      "Iteration 50: Best Distance = 290.31\n"
     ]
    }
   ],
   "source": [
    "best_route = None\n",
    "best_distance = float('inf')\n",
    "\n",
    "for iteration in range(max_iter):\n",
    "   \n",
    "    all_routes, all_distances = build_solution(pheromone_matrix, distance_matrix, alpha, beta, num_ants)\n",
    "    update_pheromones(pheromone_matrix, all_routes, all_distances, evaporation_rate, pheromone_deposite)\n",
    "    \n",
    "    min_distance_idx = np.argmin(all_distances)\n",
    "    \n",
    "    if(all_distances[min_distance_idx] < best_distance):\n",
    "        best_distance =all_distances[min_distance_idx]\n",
    "        best_route = all_routes[min_distance_idx]\n",
    "        \n",
    "    print(f\"Iteration {iteration+1}: Best Distance = {best_distance:.2f}\")"
   ]
  },
  {
   "cell_type": "code",
   "execution_count": 15,
   "id": "ff374a30",
   "metadata": {},
   "outputs": [
    {
     "name": "stdout",
     "output_type": "stream",
     "text": [
      "\n",
      "Final Best Distance: 290.3067737777875\n",
      "Best Route: [4, 1, 6, 9, 7, 2, 8, 3, 5, 0, 4]\n"
     ]
    }
   ],
   "source": [
    "# Step 8: Results\n",
    "print(\"\\nFinal Best Distance:\", best_distance)\n",
    "print(\"Best Route:\", best_route)"
   ]
  },
  {
   "cell_type": "code",
   "execution_count": 16,
   "id": "7fbd65b5",
   "metadata": {},
   "outputs": [],
   "source": [
    "# Plotting the best path"
   ]
  },
  {
   "cell_type": "code",
   "execution_count": 17,
   "id": "d1f94b35",
   "metadata": {},
   "outputs": [
    {
     "data": {
      "image/png": "[encoded data removed]",
      "text/plain": [
       "<Figure size 1000x600 with 1 Axes>"
      ]
     },
     "metadata": {},
     "output_type": "display_data"
    }
   ],
   "source": [
    "plt.figure(figsize = (10,6))\n",
    "\n",
    "for i in range(num_cities):\n",
    "    city1 = coordinates[best_route[i]]\n",
    "    city2 = coordinates[best_route[i+1]]\n",
    "    \n",
    "    plt.plot([city1[0], city2[0]], [city1[1], city2[1]], 'bo-')\n",
    "    \n",
    "plt.title(f\"Best Tour Found (Distance: {best_distance:.2f})\")\n",
    "plt.xlabel(\"X Coordinate\")\n",
    "plt.ylabel(\"Y Coordinate\")\n",
    "plt.show()"
   ]
  },
  {
   "cell_type": "code",
   "execution_count": null,
   "id": "544e3a68",
   "metadata": {},
   "outputs": [],
   "source": []
  },
  {
   "cell_type": "markdown",
   "id": "e2f89efd",
   "metadata": {},
   "source": [
    "Basic parameters:\n",
    "\n",
    "Number of cities and ants.\n",
    "\n",
    "alpha controls how much ants prefer pheromone trails.\n",
    "\n",
    "beta controls how much ants prefer shorter distances.\n",
    "\n",
    "evaporation_rate models pheromone decay.\n",
    "\n",
    "pheromone_deposit controls how much pheromone ants deposit.\n",
    "\n",
    "pheromone_init initializes the pheromone matrix.\n",
    "max_iter is the number of iterations (generations) ants will search."
   ]
  },
  {
   "cell_type": "code",
   "execution_count": 18,
   "id": "7cbd75c6",
   "metadata": {},
   "outputs": [],
   "source": [
    "import numpy as np\n",
    "import matplotlib.pyplot as plt\n",
    "\n",
    "# Step 1: Define the TSP Problem\n",
    "def create_distance_matrix(num_cities, seed=42):  #random set of cities and calculate the distance between each pair.\n",
    "    np.random.seed(seed)  #Sets the seed to make the random values reproducible.\n",
    "    \n",
    "    #Randomly generate (x, y) coordinates for each city, scaled between 0 and 100.\n",
    "    coordinates = np.random.rand(num_cities, 2) * 100  # Random city coordinates\n",
    "    \n",
    "    #Calculates Euclidean distances between every pair of cities and stores them in a matrix.\n",
    "    distance_matrix = np.sqrt(((coordinates[:, np.newaxis] - coordinates[np.newaxis, :]) ** 2).sum(axis=2))\n",
    "    return coordinates, distance_matrix\n",
    "\n",
    "# Step 2: Initialize Parameters\n",
    "num_cities = 10\n",
    "num_ants = 30\n",
    "alpha = 1         # Influence of pheromone\n",
    "beta = 5          # Influence of distance\n",
    "evaporation_rate = 0.5\n",
    "pheromone_deposit = 100\n",
    "pheromone_init = 1.0\n",
    "max_iter = 50\n",
    "\n",
    "#Create city coordinates and distance matrix.Initialize pheromone matrix with all values as 1.0.\n",
    "coordinates, distance_matrix = create_distance_matrix(num_cities) \n",
    "pheromone_matrix = np.ones((num_cities, num_cities)) * pheromone_init\n",
    "\n",
    "# Helper: Choose the next city\n",
    "#Function to choose the next city based on pheromone strength and distance.\n",
    "def choose_next_city(current_city, unvisited_cities, pheromone_matrix, distance_matrix, alpha, beta):\n",
    "    \n",
    "    #pheromone: How strong the trail is.visibility: How attractive short distances are.\n",
    "    pheromone = pheromone_matrix[current_city, unvisited_cities] ** alpha\n",
    "    visibility = (1 / distance_matrix[current_city, unvisited_cities]) ** beta\n",
    "    \n",
    "    #Calculate probabilities for choosing each unvisited city.Normalize to sum to 1.\n",
    "    probabilities = pheromone * visibility\n",
    "    probabilities /= probabilities.sum()\n",
    "    \n",
    "    return np.random.choice(unvisited_cities, p=probabilities)  #Randomly pick next city based on the computed probabilities\n",
    "\n",
    "# Step 3: Build solutions\n",
    "#Function to simulate ants building complete routes.\n",
    "def build_solution(pheromone_matrix, distance_matrix, alpha, beta, num_ants):\n",
    "    \n",
    "    all_routes = []   #Initialize storage for all routes and their distances.\n",
    "    all_distances = []\n",
    "    \n",
    "    for _ in range(num_ants):  #For each ant:\n",
    "        route = []\n",
    "        unvisited = list(range(num_cities))\n",
    "        current_city = np.random.choice(unvisited)  #Randomly pick a start city.\n",
    "        \n",
    "        #Add the starting city to the route and remove it from unvisited.\n",
    "        route.append(current_city)\n",
    "        unvisited.remove(current_city)\n",
    "        \n",
    "        #Keep selecting the next city until all cities are visited.\n",
    "        while unvisited:\n",
    "            next_city = choose_next_city(current_city, unvisited, pheromone_matrix, distance_matrix, alpha, beta)\n",
    "            route.append(next_city)\n",
    "            unvisited.remove(next_city)\n",
    "            current_city = next_city\n",
    "        \n",
    "        route.append(route[0])  # Return to start Return to the start to complete the tour (round trip).\n",
    "        distance = sum(distance_matrix[route[i], route[i+1]] for i in range(num_cities)) #Calculate total tour distance.\n",
    "        \n",
    "        all_routes.append(route)  #Store the route and its distance.\n",
    "        all_distances.append(distance)\n",
    "        \n",
    "    return all_routes, all_distances \n",
    "\n",
    "\n",
    "\n",
    "# Step 4,5,6: Update Pheromones\n",
    "#Function to update pheromone trails after all ants have completed tours.\n",
    "\n",
    "def update_pheromones(pheromone_matrix, all_routes, all_distances, evaporation_rate, pheromone_deposit):\n",
    "    \n",
    "    #Evaporation step: Reduces all pheromones a bit.\n",
    "    pheromone_matrix *= (1 - evaporation_rate)  # Evaporation\n",
    "\n",
    "    for route, distance in zip(all_routes, all_distances):\n",
    "        pheromone = pheromone_deposit / distance  #Stronger pheromone deposited for shorter routes.\n",
    "        \n",
    "        #Update pheromone levels on each edge in the route (symmetric TSP).\n",
    "        for i in range(num_cities):\n",
    "            pheromone_matrix[route[i], route[i+1]] += pheromone\n",
    "            pheromone_matrix[route[i+1], route[i]] += pheromone  # Symmetric TSP\n",
    "            \n",
    "            \n",
    "            \n",
    "\n",
    "# Step 7: Main ACO loop\n",
    "best_route = None    #Initialize best route and best distance.\n",
    "best_distance = float('inf')\n",
    "\n",
    "for iteration in range(max_iter):  #For each iteration:\n",
    "    \n",
    "    #Build solutions and update pheromones.\n",
    "    all_routes, all_distances = build_solution(pheromone_matrix, distance_matrix, alpha, beta, num_ants)\n",
    "    update_pheromones(pheromone_matrix, all_routes, all_distances, evaporation_rate, pheromone_deposit)\n",
    "    \n",
    "    #Find the index of the best (shortest) route.\n",
    "    min_distance_idx = np.argmin(all_distances)\n",
    "    \n",
    "    #Update if a better route is found.\n",
    "    if all_distances[min_distance_idx] < best_distance:\n",
    "        best_distance = all_distances[min_distance_idx]\n",
    "        best_route = all_routes[min_distance_idx]\n",
    "    \n",
    "    print(f\"Iteration {iteration+1}: Best Distance = {best_distance:.2f}\")\n",
    "\n",
    "# Step 8: Results\n",
    "print(\"\\nFinal Best Distance:\", best_distance)\n",
    "print(\"Best Route:\", best_route)\n",
    "\n",
    "# Plotting the best path\n",
    "plt.figure(figsize=(10, 6))\n",
    "for i in range(num_cities):\n",
    "    city1 = coordinates[best_route[i]]\n",
    "    city2 = coordinates[best_route[i+1]]\n",
    "    plt.plot([city1[0], city2[0]], [city1[1], city2[1]], 'bo-')\n",
    "\n",
    "plt.title(f\"Best Tour Found (Distance: {best_distance:.2f})\")\n",
    "plt.xlabel(\"X Coordinate\")\n",
    "plt.ylabel(\"Y Coordinate\")\n",
    "plt.show()\n"
   ]
  },
  {
   "cell_type": "code",
   "execution_count": null,
   "id": "d69e9866",
   "metadata": {},
   "outputs": [],
   "source": []
  }
 ],
 "metadata": {
  "kernelspec": {
   "display_name": "Python 3 (ipykernel)",
   "language": "python",
   "name": "python3"
  },
  "language_info": {
   "codemirror_mode": {
    "name": "ipython",
    "version": 3
   },
   "file_extension": ".py",
   "mimetype": "text/x-python",
   "name": "python",
   "nbconvert_exporter": "python",
   "pygments_lexer": "ipython3",
   "version": "3.9.13"
  }
 },
 "nbformat": 4,
 "nbformat_minor": 5
}
